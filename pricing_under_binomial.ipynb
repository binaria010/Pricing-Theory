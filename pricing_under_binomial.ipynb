{
  "cells": [
    {
      "cell_type": "markdown",
      "metadata": {
        "id": "view-in-github",
        "colab_type": "text"
      },
      "source": [
        "<a href=\"https://colab.research.google.com/github/binaria010/Pricing-Theory/blob/main/pricing_under_binomial.ipynb\" target=\"_parent\"><img src=\"https://colab.research.google.com/assets/colab-badge.svg\" alt=\"Open In Colab\"/></a>"
      ]
    },
    {
      "cell_type": "markdown",
      "metadata": {
        "id": "v8ohhME0p2aq"
      },
      "source": [
        "<head>\n",
        "  <script type=\"text/x-mathjax-config\"> MathJax.Hub.Config({ TeX: { equationNumbers: { autoNumber: \"all\" } } }); </script>\n",
        "  <script type=\"text/x-mathjax-config\">\n",
        "    MathJax.Hub.Config({\n",
        "      tex2jax: {\n",
        "        inlineMath: [ ['$','$'], [\"\\\\(\",\"\\\\)\"] ],\n",
        "         displayMath: [ ['$$','$$'], [\"\\\\[\",\"\\\\]\"] ],\n",
        "         processEscapes: true\n",
        "      }\n",
        "    });\n",
        "  </script>\n",
        "  <script src=\"https://cdn.mathjax.org/mathjax/latest/MathJax.js?config=TeX-AMS-MML_HTMLorMML\" type=\"text/javascript\"></script>\n",
        "  <meta name=\"google-site-verification\" content=\"kuks5e4as6qBaGVCSzmHkQJa5Tss89_g5DmRXeUi7K8\" />\n",
        "</head>\n"
      ]
    },
    {
      "cell_type": "markdown",
      "metadata": {
        "id": "3dhBgh1ep2as"
      },
      "source": [
        "<h1> Pricing Options </h1>\n",
        "\n",
        "The following is a toy example to understand the <strong> Risk Neutral Measure </strong> for pricing derivative securities. Under this risk neutral measure it is guaranteed a no arbitrage price.\n",
        "\n",
        "First, let us define this notion of arbitrage:\n",
        "\n",
        "<strong>Definition </strong> An arbitrage is a portfolio value processe $X(t)$ satisfying that $X(0)=0$ and for some time $T>0$:\n",
        "\n",
        "$$\n",
        "\\mathbb{P}(X(T) \\geq 0)=1\\quad\\text{and }\\quad \\mathbb{P}(X>0)>0.\n",
        "$$\n",
        "\n",
        "<h5> Toy Example</h5>\n",
        "\n",
        "Consider a one-period model, the stock a time 0 has price $S(0)=4$, at time $t=1$ with probability $p$ it goes up by a factor of $u=2$ and with probability $1-p$ it goes down by a factor $d=1/2$. The interest rate is $r=1/4$. Therefore\n",
        "\n",
        "$$\n",
        "S_1 = \\begin{cases}\n",
        "2*S_0 = 8 &\\quad\\text{with probability } p\\\\\n",
        "0.5*S_0 = 2 &\\quad\\text{with probability } 1-p\n",
        "\\end{cases}\n",
        "$$\n",
        "Consider an European call option with maturity of $T=1$ and strike $K=5$. The payoff is therefore\n",
        "\n",
        "$$\n",
        "(S_1 - K)^{+} = \\begin{cases}\n",
        "(8-5)^{+} = 3 &\\quad\\text{with probability } p\\\\\n",
        "(2-5)^{+} = 0 &\\quad\\text{with probability } 1-p\n",
        "\\end{cases}\n",
        "$$\n",
        "\n",
        "The goal is to determine a price for this option. To achieve this, consider the following situation: You start with an initial wealth $X_0=1.2$ and buy $\\Delta_0 =0.5$ shares of the stock whose price is $S$. Since the stock at time zero costs $4$ per share, you must use your initial wealth $X_0$ and borrow and additional of $0.80$ to do this. This leave you with a cash position of $X_0 - \\Delta_0 S_0 = -0.8$ (a debt of 0.8 to the money market). At time 1 your cash position will be $(1+r)(X_0 - \\Delta_0 S_0) = -1$ (i.e the cash at time 0 with rate growth of $r =1/4$) This means that at time 1 you will have a debt of 1 to the money market.\n",
        "\n",
        "On the other hand, at time 1 you will have your stock valued at $\\Delta_0 S_1$ , that is, with probability $p$ it will be $\\Delta_0 *S_1 = 0.5*8 = 4$ and with probability $1-p$ it will be valued at $\\Delta_0 *S_1 = 0.5*2 =1$, therefore your wealth at time 1 will be\n",
        "\n",
        "$$\n",
        "X_1 = \\Delta_0 S_1 + (1+r)(X_0 - \\Delta_0 S_0)=\\begin{cases}\n",
        "4 + (-1)= 3 &\\quad\\text{with probability }p\\\\\n",
        "1 + (-1)=0 &\\quad\\text{with probability } 1 - p\n",
        "\\end{cases}\n",
        "$$\n",
        "\n",
        "That is, your portofolio $X$ at time 1 has the same value as the call option. We say that we have <em> replicated the option</em> by trading in the stock and money markets.\n",
        "\n",
        "The initial wealth $X_0=1.20$ needed to set up the replicating portfolio $X$ is the <em>no-arbitrage price of the option at time zero </em>. For, if one could sell the option for more than 1.2, say, for 1.21, then the seller could invest the excess 0.01 in the money market and use the remaining 1.2 to replicate the option. At time 1 the seller would be able to pay off the option regardeless of the value of the stock a time 1, S_1, and still have the remaining $(1+r)*0.01 = 0.0125$ resulting from the money market investment. This is an arbitrage because the seller of the option needs no money initially and without risk of loss has 0.0125 at time 1. On the other hand if one could buy the option for less than the $X_0 =1.2$, say, for 1.19 then one should buy the option and set up the replicating portfolio in reverse. That is, we sell-short $\\Delta_0=1/2$ of the stock (we receive 2 dollars) at time 0 then with 1.19 buy the option, invest 0.8 in the money market and put the ramaining 0.01 in a separate money market. At time 1 if the stock goes up then the option pays 3 and the 0.8 is worth 1, thus with this 4 you are able to close the short position. On the contrary, if the stock goes down the option pays 0 and the 0.8 is at time 1 worth 1 dollar which is also the value you have to pay to close the short position. In either case you will end up with 0.0125 which is the 0.01 in the separate money market whose value at time 1 is $(1+r)0.01=0.0125$. Therefore there is again arbitrage."
      ]
    },
    {
      "cell_type": "markdown",
      "metadata": {
        "id": "rSMBd-JXp2as"
      },
      "source": [
        "How one would get to this fair price of 1.20?   To determine the price  at time 0 of this opton, $V_0$ suppose we begin with wealth $X_0$ and buy $\\Delta_0$ shares of the stock $S$ ($X_0$ adn $\\Delta_0$ unknown). Then the cash position at time 0 is $X_0 - \\Delta_0*S_0$ and thus, the value of this portfolio (of stock and money market) at time 1 is:\n",
        "\n",
        "$$\n",
        "X_1 = \\Delta_0*S_1 +(1+r)(X_0 - \\Delta_0*S_0) = (1+r)X_0 + \\Delta_0(S_1 -(1+r)S_0)\n",
        "$$\n",
        "The goal is to choose $X_0$ and $\\Delta_0$ so that at time 1 the value of this portfolio and the value of the option coincide. If we denote $V_1$ the value of the option at time 1, we know that its value is with probability $p$ 3 dollars and with probability $1-p$ 0 dollars (this is because the maturity is 1 and at this final time the value of the option is its payoff). Thus we llok for $X_0,, \\Delta_0$ such that\n",
        "\n",
        "$$\n",
        "X_1 = (1+r)X_0 + \\Delta_0(S_1 -(1+r)S_0) = V_1\n",
        "$$\n",
        "\n",
        "which is equivalent to\n",
        "\n",
        "$$\n",
        "X_0 + \\Delta_0\\left(\\frac{1}{1+r}S_1 -S_0\\right) = \\frac{1}{1+r}V_1\n",
        "$$\n",
        "\n",
        "Recall that $S_1$ is random and so $V_1, X_1$ are. The random variable $S_1$ can take two possible values: $S_0*u$ and $S_0*d$ where $u=2,~ d= \\frac{1}{2}$ with probabilities $p$ and $1-p$ respectively. Also, $V_1$ take the values of 3 and 0 with this probabilities. Then we have two equations:\n",
        "\n",
        "$$\n",
        "\\begin{aligned}\n",
        "X_0 + \\Delta_0\\left(\\frac{1}{1+r}S_0*u -S_0\\right) =& \\frac{1}{1+r}3  \\qquad\\text{(1)}\\\\\n",
        "X_0 + \\Delta_0\\left(\\frac{1}{1+r}S_0*d -S_0\\right) =& \\frac{1}{1+r}0  \\qquad\\text{(2)}\n",
        "\\end{aligned}\n",
        "$$\n",
        "\n",
        "To find the values of $X_0$ and $\\Delta_0$ out of these equations let us multiply equation (1) by a the number $q$ and equation (2) by the number $1-q$ and add them. These numbers are for now unknown but they will be determined as well. Thus we get:\n",
        "\n",
        "$$\n",
        "\\begin{equation}\n",
        "X_0 + \\Delta_0\\left(\\frac{1}{1+r}(q*S_0*u + (1-q)*S_0*d) -S_0\\right) = \\frac{1}{1+r}(3q +0(1-q)) \\tag{3}\n",
        "\\end{equation}\n",
        "$$\n",
        "\n",
        "If $q$ is chosen such that $S_0 = \\frac{1}{1+r}(q*S_0*u + (1-q)*S_0*d)$ then we will get from (3) that:\n",
        "\n",
        "$$\n",
        "X_0 =  \\frac{1}{1+r}(3q +0(1-q)) \\tag{3}\n",
        "$$\n",
        "\n",
        "And\n",
        "$$\n",
        "\\Delta_0 = \\frac{3 - 0}{S_0*u - S_0*d} \\qquad \\text{Delta-Hedging formula}\n",
        "$$\n",
        "\n",
        "obtained by substracting equation (2) from equation (1).\n",
        "\n",
        "Finally, the number $q = \\frac{1+r - d}{u - d}$ obtained from  $S_0 = \\frac{1}{1+r}(q*S_0*u + (1-q)*S_0*d)$.\n",
        "\n",
        "Note that if $0<d<(1+r) < u <1$, then the number $q$ satisfies the following: $q~ 1-q \\in(0,1)$, and their sum is 1. This means that the numbers $q, 1-q$ can be interpreted as probabilities and the expression for $X_0$ is nothing but the discounted expected value of the random variable $V_1$ under the probability law $q$, i.e,\n",
        "\n",
        "$$\n",
        "X_0 = \\frac{1}{1+r}\\mathbb{E}_q(V_1)\n",
        "$$\n",
        "\n",
        "This new probability law is called the <strong> Risk Neutral Measure </strong>. Observe that, by its very own definition:\n",
        "\n",
        "$$\n",
        "S_0 = \\frac{1}{1+r}(q*S_0*u + (1-q)*S_0*d) =\\frac{1}{1+r}\\mathbb{E}_q(S_1\\vert S_0)\n",
        "$$\n",
        "\n",
        "that is, the discounted expected value of $S_1$ given the value $S_0$, coincides with $S_0$, meaning that the stock price is a Martingale process. From the equation for $X_1$, by taking expected value with respect to the probability law $q$ we can conclude the same for the price process of the portfolio, i.e:\n",
        "\n",
        "$$\n",
        "\\frac{1}{1+r}\\mathbb{E}_q(X_1\\vert X_0) = X_0.\n",
        "$$\n",
        "\n",
        "In the examples below we will start already from the measure $q$ which can be defined in terms of the parameters of the problem such us th numbers $u, d, r, \\sigma$ and the measure $p$ will not play any role. Finally, instead of discounting by multiplying by the fraction $\\frac{1}{1+r}$ we will do it by muliplying by $\\exp(-\\widetilde{r})$ with $\\widetilde{r}$ such that those two quantities coincide and even more, we will lose the tilde in the notation.\n",
        "\n",
        "\n",
        "\n",
        "\n"
      ]
    },
    {
      "cell_type": "markdown",
      "metadata": {
        "id": "pQPPXT7Zp2at"
      },
      "source": [
        "<h2> Pricing under CRR binomial tree for a non path-dependent payoff </h2>\n",
        "\n",
        "In this section we implement the <strong> Backwards Induction Algorithm </strong> for pricing options whose payoff $g$ is a function of the stock price at maturity time, i.e, $g(S_N)$. We make both the European and American cases under the Cox-Ross-Rubinstein parametrisation for the binomial tree.\n",
        "\n",
        "Examples of non path-dependent payoffs are:\n",
        "\n",
        "* European call option with payoff $g(S_T) = (S(T) - K)^{+}$\n",
        "* European put option whith payoff $g(S_T) = (K - S(T))^{+}$\n",
        "\n",
        "where in both cases $T$ is the maturity, $S(t)$ is the stock price at time $t$ and $K$ is the strike value.\n",
        "\n",
        "\n",
        "We also include the case of American options although they are, technically speaking, path-dependent."
      ]
    },
    {
      "cell_type": "code",
      "execution_count": null,
      "metadata": {
        "id": "PXh3nZTip2at"
      },
      "outputs": [],
      "source": [
        "import numpy as np\n",
        "import matplotlib.pyplot as plt\n",
        "import scipy.stats\n"
      ]
    },
    {
      "cell_type": "code",
      "execution_count": null,
      "metadata": {
        "id": "nuGzaALIp2au"
      },
      "outputs": [],
      "source": [
        "def CRR_binomial_model_European(N, T, S_0, r, sigma, payoff,*params):\n",
        "\n",
        "    delta_t = T/N\n",
        "    u = np.exp(sigma*np.sqrt(delta_t))\n",
        "    d = 1/u\n",
        "    q = (np.exp(r*delta_t) - d)/(u - d)\n",
        "\n",
        "    V = np.zeros((N+1, N+1))\n",
        "    V[:, N] = np.array([payoff(S_0 * u**(N - k) * d**k, *params) for k in range(N+1)])\n",
        "\n",
        "    for n in range(N-1, -1, -1):\n",
        "        for k in range(0, n+1):\n",
        "            V[k, n] = np.exp(-r*delta_t)*(q * V[k, n+1] + (1 - q) * V[k+1, n+1])\n",
        "\n",
        "    return V"
      ]
    },
    {
      "cell_type": "code",
      "execution_count": null,
      "metadata": {
        "id": "jqNfvpYup2au"
      },
      "outputs": [],
      "source": [
        "T = 1\n",
        "N = 2\n",
        "sigma = 0.2\n",
        "r = 0.01\n",
        "K = 100\n",
        "S_0 = 100.0\n",
        "\n",
        "put = lambda S, K: np.maximum(K - S, 0)\n"
      ]
    },
    {
      "cell_type": "code",
      "execution_count": null,
      "metadata": {
        "id": "tCYMOOSop2au",
        "outputId": "1a81d7d8-bd30-4ad3-9f4a-9519f5c0914f"
      },
      "outputs": [
        {
          "data": {
            "text/plain": [
              "array([[ 6.5354428 ,  0.        ,  0.        ],\n",
              "       [ 0.        , 12.68890338,  0.        ],\n",
              "       [ 0.        ,  0.        , 24.63616836]])"
            ]
          },
          "execution_count": 21,
          "metadata": {},
          "output_type": "execute_result"
        }
      ],
      "source": [
        "CRR_binomial_model_European(N, T, S_0, r, sigma, put, K)"
      ]
    },
    {
      "cell_type": "code",
      "execution_count": null,
      "metadata": {
        "id": "OSY0FJjvp2au"
      },
      "outputs": [],
      "source": [
        "def CRR_binomial_model_American(N, T, S_0, r, sigma, payoff,*params):\n",
        "\n",
        "    delta_t = T/N\n",
        "    u = np.exp(sigma*np.sqrt(delta_t))\n",
        "    d = 1/u\n",
        "    q = (np.exp(r*delta_t) - d)/(u - d)\n",
        "\n",
        "    V = np.zeros((N+1, N+1))\n",
        "    intrinsic_value = np.zeros((N+1, N+1))\n",
        "    intrinsic_value[:, N] = np.array([payoff(S_0 * u**(N - k) * d**k, *params) for k in range(N+1)])\n",
        "    V[:, N] = intrinsic_value[:, N]\n",
        "    continuation_value = np.zeros((N, N))\n",
        "\n",
        "    for n in range(N-1, -1, -1):\n",
        "        for k in range(0, n+1):\n",
        "            intrinsic_value[k, n] = payoff(S_0 * u**(n - k) * d**k, *params)\n",
        "            continuation_value[k, n] = np.exp(-r*delta_t)*(q * V[k, n+1] + (1 - q) * V[k+1, n+1])\n",
        "            V[k, n] = np.maximum(intrinsic_value[k,n], continuation_value[k, n])\n",
        "\n",
        "    return V, continuation_value, intrinsic_value"
      ]
    },
    {
      "cell_type": "code",
      "execution_count": null,
      "metadata": {
        "id": "IHc7OWTtp2av",
        "outputId": "a3eb484c-e2be-4d96-f02d-5902de75d3c9"
      },
      "outputs": [
        {
          "name": "stdout",
          "output_type": "stream",
          "text": [
            "[[ 6.79232596  0.          0.        ]\n",
            " [ 0.         13.18765546  0.        ]\n",
            " [ 0.          0.         24.63616836]]\n",
            "[[ 6.79232596  0.        ]\n",
            " [ 0.         12.68890338]]\n",
            "[[ 0.          0.          0.        ]\n",
            " [ 0.         13.18765546  0.        ]\n",
            " [ 0.          0.         24.63616836]]\n"
          ]
        }
      ],
      "source": [
        "T = 1\n",
        "N = 2\n",
        "sigma = 0.2\n",
        "r = 0.01\n",
        "K = 100\n",
        "S_0 = 100\n",
        "\n",
        "put = lambda S, K: np.maximum(K - S, 0)\n",
        "\n",
        "V, V_tilde, g = CRR_binomial_model_American(N, T, S_0, r, sigma, put, K)\n",
        "\n",
        "print(V)\n",
        "print(V_tilde)\n",
        "print(g)\n"
      ]
    },
    {
      "cell_type": "code",
      "execution_count": null,
      "metadata": {
        "id": "BA2OOZ-Tp2av"
      },
      "outputs": [],
      "source": [
        "def Pricing_under_CRR_binomial_tree(N, T, S_0, r, sigma, payoff, *params, option = \"European\"):\n",
        "\n",
        "\n",
        "    if option == \"European\":\n",
        "        V = CRR_binomial_model_European(N, T, S_0, r, sigma, payoff, *params)\n",
        "        return V[0, 0]\n",
        "\n",
        "    if option == \"American\":\n",
        "        V, _ , _= CRR_binomial_model_American(N, T, S_0, r, sigma, payoff, *params)\n",
        "        return V[0,0]"
      ]
    },
    {
      "cell_type": "code",
      "execution_count": null,
      "metadata": {
        "id": "2FKg3eYjp2av",
        "outputId": "40d06256-1157-4c2a-9120-6ab5cf04f63f"
      },
      "outputs": [
        {
          "data": {
            "text/plain": [
              "6.082354409142444"
            ]
          },
          "execution_count": 55,
          "metadata": {},
          "output_type": "execute_result"
        }
      ],
      "source": [
        "T = 1\n",
        "N = 100\n",
        "sigma = 0.2\n",
        "r = 0.05\n",
        "K = 100.0\n",
        "S_0 = 100.0\n",
        "\n",
        "put = lambda S, K: np.maximum(K - S, 0)\n",
        "Pricing_under_CRR_binomial_tree(N, T, S_0, r, sigma, put, K, option=\"American\")"
      ]
    },
    {
      "cell_type": "code",
      "execution_count": null,
      "metadata": {
        "id": "a0G1F_ivp2av",
        "outputId": "0053bf7f-6df6-4dd2-d694-23b638ea6dcd"
      },
      "outputs": [
        {
          "data": {
            "text/plain": [
              "5.553554112321353"
            ]
          },
          "execution_count": 56,
          "metadata": {},
          "output_type": "execute_result"
        }
      ],
      "source": [
        "Pricing_under_CRR_binomial_tree(N, T, S_0, r, sigma, put, K, option = 'European')"
      ]
    },
    {
      "cell_type": "code",
      "execution_count": null,
      "metadata": {
        "id": "pSCX8oUXp2aw"
      },
      "outputs": [],
      "source": [
        "def Exact_price_European_Put(S_0, K, r, sigma, T):\n",
        "\n",
        "    d1 = (np.log(S_0/K) + (r + 0.5*sigma**2)*T)/(sigma*np.sqrt(T))\n",
        "    d2 = (np.log(S_0/K) + (r - 0.5*sigma**2)*T)/(sigma*np.sqrt(T))\n",
        "    value = -S_0*scipy.stats.norm.cdf(-d1,loc= 0, scale=1) + K*np.exp(-r*T)*scipy.stats.norm.cdf(-d2,loc= 0, scale=1)\n",
        "\n",
        "    return value"
      ]
    },
    {
      "cell_type": "code",
      "execution_count": null,
      "metadata": {
        "id": "uJeURAaqp2aw",
        "outputId": "c6fe3575-fc7a-431a-96f3-1e41fad2d7ca"
      },
      "outputs": [
        {
          "name": "stdout",
          "output_type": "stream",
          "text": [
            "7.438302065026413\n"
          ]
        }
      ],
      "source": [
        "exact_value = Exact_price_European_Put(S_0, K, r, sigma, T)\n",
        "print(exact_value)"
      ]
    },
    {
      "cell_type": "code",
      "execution_count": null,
      "metadata": {
        "id": "Vkpg1tjlp2aw"
      },
      "outputs": [],
      "source": []
    }
  ],
  "metadata": {
    "kernelspec": {
      "display_name": "Gatulin",
      "language": "python",
      "name": "python3"
    },
    "language_info": {
      "codemirror_mode": {
        "name": "ipython",
        "version": 3
      },
      "file_extension": ".py",
      "mimetype": "text/x-python",
      "name": "python",
      "nbconvert_exporter": "python",
      "pygments_lexer": "ipython3",
      "version": "3.10.8"
    },
    "colab": {
      "provenance": [],
      "include_colab_link": true
    }
  },
  "nbformat": 4,
  "nbformat_minor": 0
}