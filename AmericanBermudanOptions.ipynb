{
  "cells": [
    {
      "cell_type": "markdown",
      "metadata": {
        "id": "view-in-github",
        "colab_type": "text"
      },
      "source": [
        "<a href=\"https://colab.research.google.com/github/binaria010/Pricing-Theory/blob/main/AmericanBermudanOptions.ipynb\" target=\"_parent\"><img src=\"https://colab.research.google.com/assets/colab-badge.svg\" alt=\"Open In Colab\"/></a>"
      ]
    },
    {
      "cell_type": "markdown",
      "metadata": {
        "id": "9ltLLrGKUzUb"
      },
      "source": [
        "<head>\n",
        "  <script type=\"text/x-mathjax-config\"> MathJax.Hub.Config({ TeX: { equationNumbers: { autoNumber: \"all\" } } }); </script>\n",
        "  <script type=\"text/x-mathjax-config\">\n",
        "    MathJax.Hub.Config({\n",
        "      tex2jax: {\n",
        "        inlineMath: [ ['$','$'], [\"\\\\(\",\"\\\\)\"] ],\n",
        "         displayMath: [ ['$$','$$'], [\"\\\\[\",\"\\\\]\"] ],\n",
        "         processEscapes: true\n",
        "      }\n",
        "    });\n",
        "  </script>\n",
        "  <script src=\"https://cdn.mathjax.org/mathjax/latest/MathJax.js?config=TeX-AMS-MML_HTMLorMML\" type=\"text/javascript\"></script>\n",
        "  <meta name=\"google-site-verification\" content=\"kuks5e4as6qBaGVCSzmHkQJa5Tss89_g5DmRXeUi7K8\" />\n",
        "</head>\n",
        "\n"
      ]
    },
    {
      "cell_type": "markdown",
      "metadata": {
        "id": "YKlsOclyUzUc"
      },
      "source": [
        "<h1> Pricing American/Bermudan options. </h1>"
      ]
    },
    {
      "cell_type": "markdown",
      "metadata": {
        "id": "vGd7TkZAUzUc"
      },
      "source": [
        "In this notebook we implement some of the methods for pricing american/bermudan options. The first approach is to price a bermudan option by means of Least Square Monte Carlo method which roughly speaking consists on estimating the price by estimating the expected value using a linear regression with a specified set of basis functions. Since, one can se an american option as a limit of a bermuda option (a limit to infinity of the exercise dates), then this method allows us, by taking the number of exercising dates to be big, to price american options as well.\n",
        "\n",
        "The second approach is the PDE method. We present the partial differential equation with free boundary  and implement implicit and explicit schemes to find approximate solutions.\n",
        "\n",
        "In both cases we are under the Black-Scholes model."
      ]
    },
    {
      "cell_type": "markdown",
      "metadata": {
        "id": "O7kd5AzFUzUc"
      },
      "source": [
        "<h2> Least squares Monte Carlo method to price a Bermudan option</h2>"
      ]
    },
    {
      "cell_type": "code",
      "execution_count": null,
      "metadata": {
        "id": "ZM1WUbLKUzUc"
      },
      "outputs": [],
      "source": [
        "import numpy as np\n",
        "import matplotlib.pyplot as plt\n",
        "import scipy.stats\n",
        "from sklearn.linear_model import LinearRegression\n",
        "import pandas as pd\n",
        "import scipy.sparse\n",
        "\n"
      ]
    },
    {
      "cell_type": "code",
      "execution_count": null,
      "metadata": {
        "id": "RunT0W14UzUd"
      },
      "outputs": [],
      "source": [
        "class GBM:\n",
        "\n",
        "    def __init__(self, interest_rate, dividend_yield, volatility):\n",
        "\n",
        "        self.interest_rate = interest_rate\n",
        "        self.dividend_yield = dividend_yield\n",
        "        self.volatility = volatility\n",
        "\n",
        "\n",
        "    def Paths(self, S_0, num_intervals, T_final, Num_sim):\n",
        "        r = self.interest_rate\n",
        "        d = self.dividend_yield\n",
        "        sigma = self.volatility\n",
        "        h = T_final/num_intervals\n",
        "        S = np.zeros((Num_sim, num_intervals + 1))\n",
        "        S[:, 0] = S_0\n",
        "\n",
        "        for t in range(1, num_intervals + 1):\n",
        "            Z = scipy.stats.norm.rvs(loc = 0, scale = 1, size = Num_sim)\n",
        "            S[:, t] = S[:, t-1]*np.exp(((r-d) - 0.5*sigma**2)*h + sigma*np.sqrt(h)*Z)\n",
        "\n",
        "        return S\n",
        ""
      ]
    },
    {
      "cell_type": "code",
      "execution_count": null,
      "metadata": {
        "id": "M_auJJfAUzUd"
      },
      "outputs": [],
      "source": [
        "def compute_C_hat(X, features,  y):\n",
        "    \"\"\"\n",
        "    returns the coefficients of linear regression\n",
        "    \"\"\"\n",
        "\n",
        "    phi_X = np.array([func(X) for func in features]).T\n",
        "    lin_reg = LinearRegression(fit_intercept=False).fit(phi_X,y)\n",
        "    C_hat = lin_reg.predict(phi_X)\n",
        "\n",
        "    return C_hat"
      ]
    },
    {
      "cell_type": "code",
      "execution_count": null,
      "metadata": {
        "id": "waE_EI1sUzUd"
      },
      "outputs": [],
      "source": [
        "def time_zero_price_Bermuda_Put(X, payoff,T, r, features, method, N_sim = 10**5):\n",
        "\n",
        "    m = X.shape[1] - 1\n",
        "    h = T/m\n",
        "    V_hat = np.zeros((N_sim, m+1))\n",
        "    V_hat[:, m] = np.exp(-r*m*h)*payoff(X[:, m])\n",
        "\n",
        "    for j in range(m-1,0,-1):\n",
        "        C_hat_j = compute_C_hat(X = X[:, j], features = features, y= V_hat[:, j+1])\n",
        "        discounted_payoff = np.exp(-r*j*h)*payoff(X[:, j])\n",
        "        if method == \"Tsits-VanRoy\":\n",
        "            V_hat[:, j] = np.maximum(discounted_payoff, C_hat_j)\n",
        "        if method == \"Long-Sch\":\n",
        "            condition = discounted_payoff > C_hat_j\n",
        "            V_hat[:, j] = discounted_payoff*(condition) + V_hat[:, j+1]*(~condition)\n",
        "\n",
        "    V_0 = np.mean(V_hat[:, 1])\n",
        "\n",
        "    return V_0\n",
        "\n"
      ]
    },
    {
      "cell_type": "markdown",
      "metadata": {
        "id": "YdQOKqBqUzUd"
      },
      "source": [
        "* Example 1."
      ]
    },
    {
      "cell_type": "code",
      "execution_count": null,
      "metadata": {
        "id": "MQNcxNQnUzUd"
      },
      "outputs": [],
      "source": [
        "N_sim = 10**5\n",
        "m = 50  # number of exercising dates\n",
        "s_0 = 1\n",
        "r = 0.1\n",
        "sigma = 0.2\n",
        "K = 1.0\n",
        "T = 1\n",
        "\n",
        "\n",
        "# payoff\n",
        "payoff = lambda s: np.maximum(K - s, 0)\n",
        "\n",
        "# features\n",
        "deg = 4\n",
        "\n",
        "def foo(deg):\n",
        "    f = lambda x: x**deg\n",
        "\n",
        "    return f\n",
        "\n",
        "Phi = [foo(d) for d in range(deg+1)]\n",
        "\n",
        "\n",
        "# paths:\n",
        "model = GBM(r, 0, sigma)\n",
        "X = model.Paths(S_0 = s_0, T_final = T, num_intervals = m, Num_sim = N_sim)\n",
        "\n"
      ]
    },
    {
      "cell_type": "code",
      "execution_count": null,
      "metadata": {
        "id": "6aZ32kFTUzUd"
      },
      "outputs": [],
      "source": [
        "Tsit_VR = time_zero_price_Bermuda_Put(X, payoff=payoff, T=T, r=r, features=Phi, method = \"Tsits-VanRoy\" )\n",
        "LongS = time_zero_price_Bermuda_Put(X, payoff=payoff, T=T, r=r, features=Phi, method = \"Long-Sch\" )\n"
      ]
    },
    {
      "cell_type": "code",
      "execution_count": null,
      "metadata": {
        "id": "1eGabAxXUzUe",
        "outputId": "2689a36b-71bd-438a-dc17-366db8ed3581"
      },
      "outputs": [
        {
          "name": "stdout",
          "output_type": "stream",
          "text": [
            "The zero time price of this Bermudan put option with 50 dates of exercising is: \n",
            "With the Tsitsilkis-Van Roy method: 0.055158800038482975\n",
            "With the Longstaff-Schwartz method: 0.04643059553856469\n"
          ]
        }
      ],
      "source": [
        "print(f\"The zero time price of this Bermudan put option with {m} dates of exercising is: \")\n",
        "print(f\"With the Tsitsilkis-Van Roy method: {Tsit_VR}\")\n",
        "print(f\"With the Longstaff-Schwartz method: {LongS}\")"
      ]
    },
    {
      "cell_type": "markdown",
      "metadata": {
        "id": "F5lJDMuZUzUe"
      },
      "source": [
        "Now, taking $m$, the number of exercising dates to be ten times bigger the zero time price of the option is:"
      ]
    },
    {
      "cell_type": "code",
      "execution_count": null,
      "metadata": {
        "id": "R9G7B22eUzUe"
      },
      "outputs": [],
      "source": [
        "# paths:\n",
        "model = GBM(r, 0, sigma)\n",
        "X = model.Paths(S_0 = s_0, T_final = T, num_intervals = 10*m, Num_sim = N_sim)\n",
        "\n",
        "Tsit_VR_10m = time_zero_price_Bermuda_Put(X, payoff=payoff, T=T, r=r, features=Phi, method = \"Tsits-VanRoy\" )\n",
        "LongS_10m = time_zero_price_Bermuda_Put(X, payoff=payoff, T=T, r=r, features=Phi, method = \"Long-Sch\" )\n"
      ]
    },
    {
      "cell_type": "code",
      "execution_count": null,
      "metadata": {
        "id": "lN6A_RweUzUe",
        "outputId": "6ebcd74a-21e1-4c19-df21-e344ccea73f7"
      },
      "outputs": [
        {
          "name": "stdout",
          "output_type": "stream",
          "text": [
            "The zero time price of this Bermudan put option with 500 dates of exercising is: \n",
            "With the Tsitsilkis-Van Roy method: 0.05729517017535481\n",
            "With the Longstaff-Schwartz method: 0.045319501107950855\n"
          ]
        }
      ],
      "source": [
        "print(f\"The zero time price of this Bermudan put option with {10*m} dates of exercising is: \")\n",
        "print(f\"With the Tsitsilkis-Van Roy method: {Tsit_VR_10m}\")\n",
        "print(f\"With the Longstaff-Schwartz method: {LongS_10m}\")"
      ]
    },
    {
      "cell_type": "markdown",
      "metadata": {
        "id": "wRIMqm_LUzUe"
      },
      "source": [
        "Meanwhile the time zero price of European put is:"
      ]
    },
    {
      "cell_type": "code",
      "execution_count": null,
      "metadata": {
        "id": "A-BNevq8UzUe",
        "outputId": "aac8a192-1363-4fc8-8301-902f9f9f5f2f"
      },
      "outputs": [
        {
          "name": "stdout",
          "output_type": "stream",
          "text": [
            "0.03753418388256835\n"
          ]
        }
      ],
      "source": [
        "def Exact_price_European_Put(S_0, K, r, sigma, T):\n",
        "\n",
        "    d1 = (np.log(S_0/K) + (r + 0.5*sigma**2)*T)/(sigma*np.sqrt(T))\n",
        "    d2 = (np.log(S_0/K) + (r - 0.5*sigma**2)*T)/(sigma*np.sqrt(T))\n",
        "    value = -S_0*scipy.stats.norm.cdf(-d1,loc= 0, scale=1) + K*np.exp(-r*T)*scipy.stats.norm.cdf(-d2,loc= 0, scale=1)\n",
        "\n",
        "    return value\n",
        "\n",
        "exact_value = Exact_price_European_Put(s_0, K, r, sigma, T)\n",
        "print(exact_value)"
      ]
    },
    {
      "cell_type": "markdown",
      "metadata": {
        "id": "w1WylEQ3UzUe"
      },
      "source": [
        "------------------------------"
      ]
    },
    {
      "cell_type": "markdown",
      "metadata": {
        "id": "VF0kyLEWUzUf"
      },
      "source": [
        "_____________________________"
      ]
    },
    {
      "cell_type": "markdown",
      "metadata": {
        "id": "jJSb52cwUzUf"
      },
      "source": [
        "* <strong> Example 2.</strong> <em> American max option. </em> This option has at time $t$ the undiscounted payoff\n",
        "$$\n",
        "\\tilde{h}(S_1(t), S_2(t)) = (\\max{S_1(t), S_2(t)} - K)^{+}\n",
        "$$\n",
        "\n",
        "where the assets $S_1, S_2$ are modeled by the geometric Brownian motion with $r = 0.05$, dividend yiled $\\delta=0.1$ and volatility $\\sigma = 0.2$. The two assets are mutually independent. The strike value $K=100$ and $S_1(0)=S_2(0) = 100$ and maturity $T=3$ years. The option can be exercised at nine equally spaced dates $t_i = i/3$, $i=1,2,\\dots, 9$."
      ]
    },
    {
      "cell_type": "code",
      "execution_count": null,
      "metadata": {
        "id": "_fiDjl2gUzUf"
      },
      "outputs": [],
      "source": [
        "def compute_C_hat_for_max(phi_X, y):\n",
        "    \"\"\"\n",
        "    returns the coefficients of linear regression\n",
        "    \"\"\"\n",
        "    lin_reg = LinearRegression(fit_intercept=False).fit(phi_X,y)\n",
        "    C_hat = lin_reg.predict(phi_X)\n",
        "\n",
        "    return C_hat\n",
        "\n",
        "def time_zero_price_American_max(model, num_assets, s_0, m, payoff,T, K,features, method, N_sim = 10**5):\n",
        "\n",
        "    \"\"\"\n",
        "    Parameters:\n",
        "\n",
        "    model (class): an instance of the class modelling the assets\n",
        "    nu_assets (int): number of assets\n",
        "    s_0 (float): initial state\n",
        "    m (int): number of exercising dates\n",
        "    payoff (function): the payoff function\n",
        "    T (float): maturity time\n",
        "    features (list): a list of the basis functions for the regression\n",
        "    method (string): the method to compute the estimated price (\"Tsits-VanRoy\", \"Long-Sch\")\n",
        "    N_sim (int): number of simulations for the montecarlo\n",
        "    \"\"\"\n",
        "\n",
        "    assets = []\n",
        "    for n in range(num_assets):\n",
        "        S = model.Paths(s_0, m,T, N_sim)\n",
        "        assets.append(S)\n",
        "\n",
        "\n",
        "    h = T/m\n",
        "    X = np.hstack([assets[i][:, m].reshape(-1,1) for i in range(num_assets)])\n",
        "    V_hat = np.zeros((N_sim, m+1))\n",
        "    V_hat[:, m] = np.exp(-r*m*h)*payoff(X, K)\n",
        "\n",
        "    for j in range(m-1,0,-1):\n",
        "        X = np.hstack([assets[i][:, j].reshape(-1,1) for i in range(num_assets)])\n",
        "        phi_X = np.hstack([func(X) for func in features])\n",
        "        C_hat_j = compute_C_hat_for_max(phi_X, y= V_hat[:, j+1])\n",
        "        discounted_payoff = np.exp(-r*j*h)*payoff(X,K)\n",
        "\n",
        "        if method == \"Tsits-VanRoy\":\n",
        "            V_hat[:, j] = np.maximum(discounted_payoff, C_hat_j)\n",
        "        if method == \"Long-Sch\":\n",
        "            condition = discounted_payoff > C_hat_j\n",
        "            V_hat[:, j] = discounted_payoff*(condition) + V_hat[:, j+1]*(~condition)\n",
        "\n",
        "    V_0 = np.mean(V_hat[:, 1])\n",
        "\n",
        "    return V_0"
      ]
    },
    {
      "cell_type": "code",
      "execution_count": null,
      "metadata": {
        "id": "fkGq-QIoUzUf"
      },
      "outputs": [],
      "source": [
        "T = 3\n",
        "r = 0.05\n",
        "delta = 0.1\n",
        "sigma = 0.2\n",
        "Nsim = 4*10**3\n",
        "s_0 = 100\n",
        "m = 9\n",
        "\n",
        "# features\n",
        "deg = 3\n",
        "\n",
        "def foo(deg):\n",
        "    f = lambda x: x**deg\n",
        "\n",
        "    return f\n",
        "def constant_foo():\n",
        "    return lambda x: np.ones(x.shape)\n",
        "\n",
        "Phi = [foo(d) for d in range(1,deg+1)] + [constant_foo()]\n",
        "\n",
        "# payoff\n",
        "\n",
        "def payoff_max(X, K):\n",
        "    return np.maximum(np.max(X, axis = 1) - K  ,0)\n",
        "\n",
        "\n",
        "# model for the assets\n",
        "model = GBM(r, delta, sigma)"
      ]
    },
    {
      "cell_type": "code",
      "execution_count": null,
      "metadata": {
        "id": "bWxUL6srUzUf"
      },
      "outputs": [],
      "source": [
        "Tsit_VanRoy = time_zero_price_American_max(model, num_assets =2, s_0 = s_0, m = m ,payoff = payoff_max,T =T, K = K,features = Phi, method =\"Tsits-VanRoy\", N_sim = 10**5)\n",
        "Long_sch = time_zero_price_American_max(model, num_assets =2, s_0 = s_0, m = m ,payoff = payoff_max,T =T, K = K,features = Phi, method =\"Long-Sch\", N_sim = 10**5)"
      ]
    },
    {
      "cell_type": "code",
      "execution_count": null,
      "metadata": {
        "id": "idq7Gy1AUzUf",
        "outputId": "f4081d41-3cfa-477d-d996-b97891c4baa3"
      },
      "outputs": [
        {
          "name": "stdout",
          "output_type": "stream",
          "text": [
            " Tsitsitkils Van Roy is 104.63400546691578\n",
            "Longstaff Schwartz is 102.49314822667444\n"
          ]
        }
      ],
      "source": [
        "print(f\" Tsitsitkils Van Roy is {Tsit_VanRoy}\")\n",
        "print(f\"Longstaff Schwartz is {Long_sch}\")"
      ]
    },
    {
      "cell_type": "markdown",
      "metadata": {
        "id": "eqM3vFGuUzUf"
      },
      "source": [
        "Let us use more basis functions such as:\n",
        "\n",
        "* $\\{1,~ x^i,~ y^i,~ xy ~, \\text{for } i =1,2,3\\}$\n",
        "* $\\{1,~ x^i,~ y^i,~ xy ~, \\max(x, y), ~ \\text{for } i =1,2,3\\}$\n",
        "* $\\{1,~ x^i,~ y^i,~ xy,~ x^2y,~ xy^2, \\text{for } ~ i =1,2,3\\}$"
      ]
    },
    {
      "cell_type": "code",
      "execution_count": null,
      "metadata": {
        "id": "YGUeUngtUzUf"
      },
      "outputs": [],
      "source": [
        "interaction = lambda X: (X[:,0]*X[:,1]).reshape(-1,1)\n",
        "\n",
        "max_function = lambda X: np.max(X, axis = 1, keepdims = True)\n",
        "\n",
        "def cubic_foos():\n",
        "    return [lambda X: (X[:, 0]**2 * X[:, 1]).reshape(-1,1), lambda X: (X[:, 0]*X[:, 1]**2).reshape(-1,1)]\n",
        "\n",
        "\n",
        "Phi1 = Phi + [interaction]\n",
        "Phi2 = Phi1 + [max_function]\n",
        "Phi3 = Phi1 + cubic_foos()\n"
      ]
    },
    {
      "cell_type": "code",
      "execution_count": null,
      "metadata": {
        "id": "HnudphnLUzUf"
      },
      "outputs": [],
      "source": [
        "Tsit_VanRoy1 = time_zero_price_American_max(model, num_assets =2, s_0 = s_0, m = m ,payoff = payoff_max,T =T, K = K,features = Phi1, method =\"Tsits-VanRoy\", N_sim = 10**5)\n",
        "Long_sch1 = time_zero_price_American_max(model, num_assets =2, s_0 = s_0, m = m ,payoff = payoff_max,T =T, K = K,features = Phi1, method =\"Long-Sch\", N_sim = 10**5)"
      ]
    },
    {
      "cell_type": "code",
      "execution_count": null,
      "metadata": {
        "id": "VquUX174UzUf",
        "outputId": "65c48570-4c4c-410c-ec0e-8d0bac0c8ed8"
      },
      "outputs": [
        {
          "name": "stdout",
          "output_type": "stream",
          "text": [
            "The estimated price for the basis functions {1, x^i,  y^i,  xy, for i =1,2,3} are:\n",
            " Tsitsitkils Van Roy is 103.22672225724922\n",
            "Longstaff Schwartz is 102.74065341264286\n"
          ]
        }
      ],
      "source": [
        "print(\"The estimated price for the basis functions {1, x^i,  y^i,  xy, for i =1,2,3} are:\")\n",
        "print(f\" Tsitsitkils Van Roy is {Tsit_VanRoy1}\")\n",
        "print(f\"Longstaff Schwartz is {Long_sch1}\")"
      ]
    },
    {
      "cell_type": "code",
      "execution_count": null,
      "metadata": {
        "id": "DNUPxoiYUzUf"
      },
      "outputs": [],
      "source": [
        "Tsit_VanRoy2 = time_zero_price_American_max(model, num_assets =2, s_0 = s_0, m = m ,payoff = payoff_max,T =T, K = K,features = Phi2, method =\"Tsits-VanRoy\", N_sim = 10**5)\n",
        "Long_sch2 = time_zero_price_American_max(model, num_assets =2, s_0 = s_0, m = m ,payoff = payoff_max,T =T, K = K,features = Phi2, method =\"Long-Sch\", N_sim = 10**5)"
      ]
    },
    {
      "cell_type": "code",
      "execution_count": null,
      "metadata": {
        "id": "2iKRqwQFUzUf",
        "outputId": "350c2225-d3b2-4b00-aa45-de91eba1d78e"
      },
      "outputs": [
        {
          "name": "stdout",
          "output_type": "stream",
          "text": [
            "The estimated price for the basis functions {1, x^i,  y^i,  xy, max(x,y) for i =1,2,3} are:\n",
            " Tsitsitkils Van Roy is 102.69775268900071\n",
            "Longstaff Schwartz is 102.7326909560943\n"
          ]
        }
      ],
      "source": [
        "print(\"The estimated price for the basis functions {1, x^i,  y^i,  xy, max(x,y) for i =1,2,3} are:\")\n",
        "print(f\" Tsitsitkils Van Roy is {Tsit_VanRoy2}\")\n",
        "print(f\"Longstaff Schwartz is {Long_sch2}\")"
      ]
    },
    {
      "cell_type": "code",
      "execution_count": null,
      "metadata": {
        "id": "1sry2s2KUzUf"
      },
      "outputs": [],
      "source": [
        "Tsit_VanRoy3 = time_zero_price_American_max(model, num_assets =2, s_0 = s_0, m = m ,payoff = payoff_max,T =T, K = K,features = Phi3, method =\"Tsits-VanRoy\", N_sim = 10**5)\n",
        "Long_sch3 = time_zero_price_American_max(model, num_assets =2, s_0 = s_0, m = m ,payoff = payoff_max,T =T, K = K,features = Phi3, method =\"Long-Sch\", N_sim = 10**5)\n"
      ]
    },
    {
      "cell_type": "code",
      "execution_count": null,
      "metadata": {
        "id": "nxjkTiDsUzUg",
        "outputId": "b1302661-9232-48f4-8a1d-ab7746ed7a00"
      },
      "outputs": [
        {
          "name": "stdout",
          "output_type": "stream",
          "text": [
            "The estimated price for the basis functions {1, x^i,  y^i,  xy, x^2y, xy^2 for i =1,2,3} are:\n",
            " Tsitsitkils Van Roy is 103.11513376953486\n",
            "Longstaff Schwartz is 102.80388673481086\n"
          ]
        }
      ],
      "source": [
        "\n",
        "print(\"The estimated price for the basis functions {1, x^i,  y^i,  xy, x^2y, xy^2 for i =1,2,3} are:\")\n",
        "print(f\" Tsitsitkils Van Roy is {Tsit_VanRoy3}\")\n",
        "print(f\"Longstaff Schwartz is {Long_sch3}\")"
      ]
    },
    {
      "cell_type": "markdown",
      "metadata": {
        "id": "TF3DeAIMUzUg"
      },
      "source": [
        "Let us print all the results in a dataframe incluiding estimates for initial stock price of $S_0 = 90$ (in-the-money) and $S_0 = 110$ (out-of-the-money)."
      ]
    },
    {
      "cell_type": "code",
      "execution_count": null,
      "metadata": {
        "id": "EjNv7_YgUzUg"
      },
      "outputs": [],
      "source": [
        "S0 = [100.0, 90.0, 110.0]\n",
        "Basis_functions = [Phi, Phi1, Phi2,Phi3]\n",
        "columns = [\"T-VR\", \"L-S\"]\n",
        "basis_func_names = [\"1,S_i, S_i^2, S_i^3\", \"1,S_i, S_i^2, S_i^3, S_1S_2\", \"1,S_i, S_i^2, S_i^3, S_1S_2, max(S_1,S_2)\", \"1,S_i, S_i^2, S_i^3, S_1S_2, S_1^2S_2, S_1S_2^2\"]\n",
        "\n",
        "results = pd.DataFrame({}, columns = columns, index = basis_func_names)\n",
        "results.index.name = \"Basis functions\"\n",
        "results_in_the_money = pd.DataFrame({}, columns = columns, index = basis_func_names)\n",
        "results_in_the_money.index.name = \"Basis functions\"\n",
        "results_out_the_money = pd.DataFrame({}, columns = columns, index = basis_func_names)\n",
        "results_out_the_money.index.name = \"Basis functions\"\n"
      ]
    },
    {
      "cell_type": "code",
      "execution_count": null,
      "metadata": {
        "id": "yWocNIfKUzUg"
      },
      "outputs": [],
      "source": [
        "r = 0.05\n",
        "delta = 0.1\n",
        "sigma = 0.2\n",
        "m = 9\n",
        "T = 3.0\n",
        "K = 100.0\n",
        "\n",
        "model = GBM(r, delta, sigma)\n"
      ]
    },
    {
      "cell_type": "code",
      "execution_count": null,
      "metadata": {
        "id": "qyuoOQa3UzUg"
      },
      "outputs": [],
      "source": [
        "for i, features in enumerate(Basis_functions):\n",
        "\n",
        "    TVR = time_zero_price_American_max(model, num_assets=2, s_0 = S0[0], m = m, payoff=payoff_max, T = T, K = K, features=features, method=\"Tsits-VanRoy\")\n",
        "    LS = time_zero_price_American_max(model, num_assets=2, s_0 = S0[0], m = m, payoff=payoff_max, T = T,  K = K, features=features,method=\"Long-Sch\")\n",
        "    TVR_in_money = time_zero_price_American_max(model, num_assets=2, s_0 = S0[1], m = m, payoff=payoff_max, T = T, K = K, features=features, method=\"Tsits-VanRoy\")\n",
        "    LS_in_moey = time_zero_price_American_max(model, num_assets=2, s_0 = S0[1], m = m, payoff=payoff_max, T = T,  K = K, features=features,method=\"Long-Sch\")\n",
        "    TVR_out_money = time_zero_price_American_max(model, num_assets=2, s_0 = S0[2], m = m, payoff=payoff_max, T = T, K = K, features=features, method=\"Tsits-VanRoy\")\n",
        "    LS_out_moey = time_zero_price_American_max(model, num_assets=2, s_0 = S0[2], m = m, payoff=payoff_max, T = T,  K = K, features=features,method=\"Long-Sch\")\n",
        "\n",
        "    results.loc[basis_func_names[i]] = [TVR, LS]\n",
        "    results_in_the_money.loc[basis_func_names[i]] = [TVR_in_money, LS_in_moey]\n",
        "    results_out_the_money.loc[basis_func_names[i]] = [TVR_out_money, LS_out_moey]\n"
      ]
    },
    {
      "cell_type": "code",
      "execution_count": null,
      "metadata": {
        "id": "I6mbmyEwUzUg",
        "outputId": "848c93df-6d7f-45c1-d3bc-9cbb41b8fe8c"
      },
      "outputs": [
        {
          "name": "stdout",
          "output_type": "stream",
          "text": [
            "                                                      T-VR        L-S\n",
            "Basis functions                                                      \n",
            "1,S_i, S_i^2, S_i^3                              15.574006  13.657911\n",
            "1,S_i, S_i^2, S_i^3, S_1S_2                      15.206147  13.681587\n",
            "1,S_i, S_i^2, S_i^3, S_1S_2, max(S_1,S_2)        15.195438  13.618971\n",
            "1,S_i, S_i^2, S_i^3, S_1S_2, S_1^2S_2, S_1S_2^2  14.935285  13.725129\n",
            "\n",
            "\n",
            "In-the-money\n",
            "\n",
            "\n",
            "                                                     T-VR       L-S\n",
            "Basis functions                                                    \n",
            "1,S_i, S_i^2, S_i^3                              9.478431   7.90573\n",
            "1,S_i, S_i^2, S_i^3, S_1S_2                      9.327884  7.838965\n",
            "1,S_i, S_i^2, S_i^3, S_1S_2, max(S_1,S_2)        9.333072  7.868149\n",
            "1,S_i, S_i^2, S_i^3, S_1S_2, S_1^2S_2, S_1S_2^2  9.262682  7.869341\n",
            "\n",
            "\n",
            "Out-of-the-money\n",
            "\n",
            "\n",
            "                                                      T-VR        L-S\n",
            "Basis functions                                                      \n",
            "1,S_i, S_i^2, S_i^3                               23.88303  21.192953\n",
            "1,S_i, S_i^2, S_i^3, S_1S_2                      22.537578  21.152894\n",
            "1,S_i, S_i^2, S_i^3, S_1S_2, max(S_1,S_2)        22.429581  21.177957\n",
            "1,S_i, S_i^2, S_i^3, S_1S_2, S_1^2S_2, S_1S_2^2  22.342167  21.231335\n"
          ]
        }
      ],
      "source": [
        "print(results)\n",
        "print('\\n')\n",
        "print(\"In-the-money\")\n",
        "print('\\n')\n",
        "print(results_in_the_money)\n",
        "print('\\n')\n",
        "print(\"Out-of-the-money\")\n",
        "print('\\n')\n",
        "print(results_out_the_money)\n"
      ]
    },
    {
      "cell_type": "markdown",
      "metadata": {
        "id": "a6B08iYaUzUg"
      },
      "source": [
        "_______________________________\n",
        "__________________________________"
      ]
    },
    {
      "cell_type": "markdown",
      "metadata": {
        "id": "v9U2tMfEUzUg"
      },
      "source": [
        "<h3> PDE approach to price the american put. </h2>"
      ]
    },
    {
      "cell_type": "markdown",
      "metadata": {
        "id": "vdvlZOaXUzUl"
      },
      "source": [
        "The price $V(t,s)$ of an american put satisfies the <em>Linear Complementary Problem </em> (LCP):\n",
        "\n",
        "$$\n",
        "\\frac{\\partial V}{\\partial t} + \\frac{1}{2}\\sigma^2 s^2\\frac{\\partial ^2 V}{\\partial s^2} + rs\\frac{\\partial V}{\\partial s} - rV =0\\qquad s > B(t), \\quad t\\in[0, T]\n",
        "$$\n",
        "\n",
        "Here $B(t)$ is the moving boundary. Also we are assuming that no dividends are paid throughout the life of the option.\n",
        "\n",
        "The terminal condition is given by:\n",
        "\n",
        "$$\n",
        "V(T, s) = \\max(K - s, 0), \\quad x\\geq 0\n",
        "$$\n",
        "\n",
        "and boundary conditions:\n",
        "\n",
        "$$\n",
        "\\begin{align*}\n",
        "\\lim_{s\\to \\infty}V(t, s) &= 0\\\\\n",
        "\\frac{\\partial V}{\\partial s}(t, B(t)) &=  -1\\\\\n",
        "V(t, B(t)) &=  K - B(t)\\\\\n",
        "\\end{align*}\n",
        "$$\n",
        "\n",
        "Define also a terminal value for the boundary function\n",
        "\n",
        "$$\n",
        "B(T) = K\n",
        "$$\n",
        "\n",
        "Finally, \"in front\" of the free boundary the option price is given by:\n",
        "\n",
        "$$\n",
        "V(t, s) = \\max(K -s, 0), \\quad 0\\leq s < B(t).\n",
        "$$\n",
        "\n",
        "Now, since early exercise is permitted, the option price must satisfy the constrain:\n",
        "\n",
        "$$\n",
        "V(t, s) \\geq \\max(K - s, 0), \\quad s \\geq 0, \\quad t\\in[0,T].\n",
        "$$\n",
        "\n",
        "In conclusion, for this problem we have two unknowns, namely the option price function $V$ and the free boundary $B$. The curve $B$ is called the optimal exercise boundary. In the region $s > B(t)$, the option price satisfies the Black-Scholes equation, while in the region $s\\leq B(t)$, it is optimal to exercise the put."
      ]
    },
    {
      "cell_type": "markdown",
      "metadata": {
        "id": "TP5klcl5UzUl"
      },
      "source": [
        "To solve this problem we will use the <strong>Fron-Fixing method</strong>. The idea is to apply a transformation of variables in order to remove the free boundary at the cost of adding a complexity to the PDE, namely a non-linearity to the equation.\n",
        "\n",
        "The Landau trasnformation is:\n",
        "\n",
        "$$\n",
        "x = \\frac{s}{B(t)}\n",
        "$$\n",
        "\n",
        "Then, by applying chain rule, the Black-Schole equation in the new variables $(t,x)$ is:\n",
        "\n",
        "$$\n",
        "\\frac{\\partial V}{\\partial t} + \\frac{1}{2}\\sigma^2 x^2\\frac{\\partial ^2 V}{\\partial x^2} + x \\left[r - \\frac{B'(t)}{B(t)}\\right]\\frac{\\partial V}{\\partial x} - rV  =0 \\qquad 1< x <+\\infty(t), \\quad t\\in[0, T]\n",
        "$$\n",
        "\n",
        "subject to:\n",
        "\n",
        "$$\n",
        "\\begin{align*}\n",
        "& V(T, x)  = 0, \\quad x\\geq 1\\\\\n",
        "& \\lim_{x\\to \\infty}V(t, x) = 0\\\\\n",
        "&\\frac{\\partial V}{\\partial x}(t, 1) =  -B(t)\\\\\n",
        "& V(t, 1) =  K - B(t)\\\\\n",
        "&B(T) = K\n",
        "\\end{align*}\n",
        "$$"
      ]
    },
    {
      "cell_type": "markdown",
      "metadata": {
        "id": "KgRA-S7SUzUl"
      },
      "source": [
        "Once $V$ and $B$ are computed, the time $t$ value of the American put is given by\n",
        "\n",
        "$$\n",
        "P(t, S) = \\begin{cases}\n",
        "V(t, S/B(t))  \\quad &\\text{if } \\tfrac{S}{B(t)} \\geq 1\\\\\n",
        "\\\\\n",
        "K - S \\quad &\\text{if }  0 \\leq \\tfrac{S}{B(t)}< 1\n",
        "\\end{cases}\n",
        "$$"
      ]
    },
    {
      "cell_type": "markdown",
      "metadata": {
        "id": "59Uapzy4UzUl"
      },
      "source": [
        "<h2> Numerical solution. </h2>\n",
        "\n",
        "<h3> Implicit scheme. </h3>"
      ]
    },
    {
      "cell_type": "markdown",
      "metadata": {
        "id": "Tps05mmaUzUl"
      },
      "source": [
        "Now we proceed to find an approximate solution by means of the Implicit Euler scheme:\n",
        "\n",
        "$$\n",
        "\\frac{V^{i+1}_{j}-V^{i}_{j}}{\\Delta t} + \\frac{1}{2}\\sigma^2x_j^2\\frac{V_{j+1}^{i}-2V_{j}^{i} + V_{j-1}^{i}}{\\Delta x^2} + x_j\\left[r - \\frac{B^{i+1} - B^{i}}{\\Delta tB^{i}}\\right]\\frac{V_{j+1}^{i}-V_{j-1}^{i}}{2\\Delta x} - rV_{j}^{i} = 0 \\qquad i= N_t, N_{t}-1,\\dots, 0,\\quad j = 1,2,\\dots, N_x\n",
        "$$\n",
        "\n",
        "where as usual $V^{i}_{j}=V(t_i, x_j), B^{i} = B(t_i)$, $\\Delta t, \\Delta x$ are the sizes of the grids in $t$ and $x$ respectively and $N_t, N_x$ the number of nodes in each coordinate."
      ]
    },
    {
      "cell_type": "markdown",
      "metadata": {
        "id": "7nP8IOCHUzUm"
      },
      "source": [
        "Note that since the unknown function $B$ is evaluated at time level $i$ and is multiplying the unknown function $V$ at the same time level, this system of equations is non-linear and we will need a solver such as Newton method to find the solutions. The advantange of using the explicit scheme is that the resulting system is linear, but we have the constraint of stability of the method."
      ]
    },
    {
      "cell_type": "markdown",
      "metadata": {
        "id": "Qt3Yv9ItUzUm"
      },
      "source": [
        "The terminal conditions are:\n",
        "\n",
        "$$\n",
        "\\begin{align*}\n",
        "V^{N_t}_{j} &= 0, \\quad j=0,1,\\dots, N_x\\\\\n",
        "B^{N_t} &= K\n",
        "\\end{align*}\n",
        "$$\n",
        "\n",
        "and the boundary conditions are:\n",
        "\n",
        "$$\n",
        "\\begin{align*}\n",
        "V^{i}_{0} &= K - B^{i}\\\\\n",
        "V^{i}_{N_x} &= 0, \\quad i = N_t,N_t -1,\\dots, 0\\\\\n",
        "\\frac{V^{i}_{1}-V^{i}_{0}}{N_x} & = -B^{i}, \\quad i = N_t, N_t-1,\\dots, 0\n",
        "\\end{align*}\n",
        "$$"
      ]
    },
    {
      "cell_type": "markdown",
      "metadata": {
        "id": "6XURPXrhUzUm"
      },
      "source": [
        "From this last equation we can express $V_1^{i}$ in terms of $B^{i}$ by:\n",
        "\n",
        "$$\n",
        "V_1^{i} = V_0^{i} -\\Delta x B^{i} = K - (1+\\Delta x)B^{i}\n",
        "$$\n",
        "\n",
        "Then, $V_0^{i}, V_1^{i}$ can be computed in terms of $B^{i}$ for all $i=N_t-1, \\dots, 0$."
      ]
    },
    {
      "cell_type": "markdown",
      "metadata": {
        "id": "8ZFfF6hsUzUm"
      },
      "source": [
        "For the rest of the unknwons $V_2^{i}, V_3^{i},\\dots V_{N_x -1}^{i}, B^{i}$ we use the following equation:\n",
        "$$\n",
        "c_{j, j-1}V_{j-1}^{i}  + c_{j,j}V_{j}^{i} + c_{j,j+1}V_{j+1}^{i} = b_j\n",
        "$$\n",
        "\n",
        "with\n",
        "\n",
        "$$\\begin{align*}\n",
        "c_{j,j-1} = & -  \\frac{\\Delta t}{2\\Delta x^2}\\sigma^2x_j^2 + \\frac{\\Delta t}{2\\Delta x}x_j\\left(r - \\frac{B^{i+1} - B^{i}}{\\Delta t B^{i}} \\right)\\\\\n",
        "\\\\\n",
        "c_{j,j} = &1 + \\frac{\\Delta t}{\\Delta x^2}\\sigma^2x_j^2 +r\\Delta t\\\\\n",
        "\\\\\n",
        "c_{j,j+1} = & -\\frac{\\Delta t}{2\\Delta x^2}\\sigma^2x_j^2 - \\frac{\\Delta t}{2\\Delta x}x_j\\left(r - \\frac{B^{i+1} - B^{i}}{\\Delta t B^{i}} \\right)\\\\\n",
        "\\\\\n",
        "b_j= & V_j^{i+1}\n",
        "\\end{align*}\n",
        "$$\n",
        "\n",
        "\n",
        "\n"
      ]
    },
    {
      "cell_type": "markdown",
      "metadata": {
        "id": "ENBMt7yEUzUm"
      },
      "source": [
        "We now express the problem in the form of $F(V^i, B^i) = 0$ to apply Newton's method. From the equation we have that:\n",
        "\n",
        "$$\n",
        "F({\\bf V}^{i}, {\\bf B}^{i}) := C({\\bf B}^{i}){\\bf V}^{i} - f({\\bf B}^{i}) = 0\n",
        "$$\n",
        "\n",
        "where ${\\bf V}^i = (V_2^{i}, V_3^{i}, \\dots, V_{N_x-1}^{i})$ for $i =N_t-1, \\dots, 0$."
      ]
    },
    {
      "cell_type": "markdown",
      "metadata": {
        "id": "nAbz7UMHUzUm"
      },
      "source": [
        "Below we give the python functions we defined to compute the solution of the equation using the Newton method:"
      ]
    },
    {
      "cell_type": "code",
      "execution_count": null,
      "metadata": {
        "id": "7ImaW_EiUzUm"
      },
      "outputs": [],
      "source": [
        "def auxiliar_funcs(Y, X_next, Y_next, params):\n",
        "\n",
        "    \"\"\"\n",
        "    Y := B^{n} boundary function at time level n\n",
        "    X, X_next: numpy arrays of dim M-1: having the variables V_2,V_3,..., V_{M}\n",
        "    \"\"\"\n",
        "\n",
        "    r, sigma, K, T, x_0, x_inf , delta_t, delta_x,  = params\n",
        "\n",
        "    M = int((x_inf - x_0)/delta_x) - 1\n",
        "    b = np.hstack((K - (1+delta_x)*Y_next ,X_next))\n",
        "    x = np.linspace(x_0, x_inf, M+2)  # dim x = M+2\n",
        "\n",
        "    alpha = 1 + delta_t/(delta_x**2)*(sigma*x[1:-1])**2 +r*delta_t\n",
        "    beta = delta_t/(2*delta_x)*x[1:-1] *((-1/delta_x) * sigma**2 * x[1:-1] + r - (1/delta_t)*(Y_next/Y - 1))\n",
        "    gamma = delta_t/(2*delta_x)*x[1:-1] *(-1/delta_x*sigma**2*x[1:-1] - r + (1/delta_t)*(Y_next/Y - 1))\n",
        "\n",
        "    alpha_prime = np.zeros_like(alpha)\n",
        "    beta_prime = x[1:-1]/(2*delta_x)*Y_next*(1/Y**2)\n",
        "    gamma_prime = -x[1:-1]/(2*delta_x)*Y_next *(1/Y**2)\n",
        "\n",
        "\n",
        "\n",
        "    f = np.zeros(M)\n",
        "    f[0] = b[0] - beta[0]*(K-Y) - alpha[0]*(K - (1+delta_x)*Y)\n",
        "    f[1] = b[1] - beta[1]*(K - (1+delta_x)*Y)\n",
        "    f[2:] = b[2:]\n",
        "\n",
        "    f_prime = np.zeros(M)\n",
        "    f_prime[0] = -beta_prime[0]*(K - Y) + beta[0] + alpha[0]*(1+delta_x)\n",
        "    f_prime[1] = -beta_prime[1]*(K - (1+delta_x)*Y) + (1+delta_x)*beta[1]\n",
        "\n",
        "    main_diag = gamma[0:-1]\n",
        "    sub_diag = alpha[1:]\n",
        "    sub_sub_diag = beta[2:]\n",
        "    offsets = [0,-1,-2]\n",
        "\n",
        "    A = scipy.sparse.diags([main_diag, sub_diag,sub_sub_diag], offsets=offsets, shape=(M, M-1)).toarray()\n",
        "\n",
        "    main_diag_prime = gamma_prime[0:-1]\n",
        "    sub_diag_prime = alpha_prime[1:]\n",
        "    sub_sub_diag_prime = beta_prime[2:]\n",
        "\n",
        "    A_prime = scipy.sparse.diags([main_diag_prime, sub_diag_prime, sub_sub_diag_prime], offsets=offsets, shape=(M, M-1)).toarray()\n",
        "\n",
        "    return A, f, A_prime, f_prime\n",
        "\n",
        "def F_function(X, Y, X_next, Y_next, params):\n",
        "\n",
        "    A, f, _, _ = auxiliar_funcs(Y, X_next, Y_next, params)\n",
        "    F = A @ X - f\n",
        "    return F\n",
        "\n",
        "\n",
        "def Jacobian_F(X, Y, X_next, Y_next, params):\n",
        "\n",
        "    A, f, A_prime, f_prime = auxiliar_funcs(Y, X_next, Y_next, params)\n",
        "\n",
        "    A_ext = np.hstack((A, np.zeros((A.shape[0], 1))))  # dim MxM\n",
        "    last_column  = A_prime @ X - f_prime\n",
        "    DF = A_ext + np.hstack((np.zeros_like(A), last_column.reshape(-1,1)))\n",
        "\n",
        "    return DF\n",
        "\n",
        "def Newton_method(F, DF, X0, Y0, X_next, Y_next, params, tol = 1e-6, max_iter = 50):\n",
        "\n",
        "    X = X0.copy()\n",
        "    Y = Y0.copy()\n",
        "\n",
        "    for _ in range(max_iter):\n",
        "        Fp = F(X, Y, X_next, Y_next, params)\n",
        "        DFp = Jacobian_F(X, Y, X_next, Y_next, params)\n",
        "        delta = np.linalg.solve(DFp, -Fp)\n",
        "        X = X + delta[0:-1]\n",
        "        Y = Y + delta[-1]\n",
        "        if np.linalg.norm(delta) < tol:\n",
        "            break\n",
        "\n",
        "    return X, Y\n"
      ]
    },
    {
      "cell_type": "code",
      "execution_count": null,
      "metadata": {
        "id": "ampZU2NYUzUm"
      },
      "outputs": [],
      "source": [
        "def implicit_method_for_American_put(F, DF, params):\n",
        "\n",
        "    r, sigma, K, T, x_0, x_inf , delta_t, delta_x,  = params\n",
        "\n",
        "    M = int((x_inf - x_0)/delta_x) -1\n",
        "    N = int(T/delta_t) -1\n",
        "\n",
        "\n",
        "    # save solutions (V_0, V_1, V_2,V_3,..., V_M)^n, B^n in matrices XX and YY respectively\n",
        "    V = np.zeros((M+2, N +2))  # saves V_0, V_1,V_2,V_3,.., V_M for all n = N+1, N, N-1, .., 0\n",
        "\n",
        "    B = np.zeros(N + 2)\n",
        "    B[-1] = K\n",
        "\n",
        "    for n in range(N, -1, -1):\n",
        "\n",
        "        V_next = V[2:-1,n+1]\n",
        "        B_next = B[n+1]\n",
        "        #initial guess:\n",
        "        X0 = V_next\n",
        "        Y0 = B_next\n",
        "        V[2:-1, n], B[n] = Newton_method(F, DF, X0, Y0, V_next, B_next, params)\n",
        "\n",
        "    V[0, 0:-1] = K - B[0:-1]\n",
        "    V[1, 0:-1] = K - (1+delta_x) * B[0:-1]\n",
        "\n",
        "    return V, B\n",
        "\n",
        "\n",
        "\n"
      ]
    },
    {
      "cell_type": "code",
      "execution_count": null,
      "metadata": {
        "id": "qyLyLO4xUzUm"
      },
      "outputs": [],
      "source": [
        "sigma = 0.2\n",
        "r = 0.1\n",
        "K = 1\n",
        "x_inf = 2\n",
        "x_0 = 1\n",
        "T = 1\n",
        "delta_x = 1e-3\n",
        "delta_t = 1e-3\n",
        "\n",
        "params = [r, sigma, K, T, x_0, x_inf, delta_t, delta_x]\n"
      ]
    },
    {
      "cell_type": "code",
      "execution_count": null,
      "metadata": {
        "id": "OZtKiAQ4UzUm"
      },
      "outputs": [],
      "source": [
        "V_implicit, B_implicit = implicit_method_for_American_put(F_function, Jacobian_F, params)\n",
        "\n"
      ]
    },
    {
      "cell_type": "code",
      "execution_count": null,
      "metadata": {
        "id": "eN38_K_4UzUm",
        "outputId": "8aa7c437-0575-4659-d578-251129008a4c"
      },
      "outputs": [
        {
          "name": "stdout",
          "output_type": "stream",
          "text": [
            "0.8611543951505038\n"
          ]
        }
      ],
      "source": [
        "print(B_implicit[0])"
      ]
    },
    {
      "cell_type": "markdown",
      "metadata": {
        "id": "Tm3gMjW-UzUn"
      },
      "source": [
        "--------------------------------\n",
        "---------------------------------"
      ]
    },
    {
      "cell_type": "markdown",
      "metadata": {
        "id": "5FPyLI9WUzUn"
      },
      "source": [
        "<h2> Explicit method </h2>"
      ]
    },
    {
      "cell_type": "markdown",
      "metadata": {
        "id": "EITfLwEtUzUn"
      },
      "source": [
        "In this case the discretized equation is of the form:\n",
        "\n",
        "$$\n",
        "\\frac{V^{i+1}_{j}-V^{i}_{j}}{\\Delta t} + \\frac{1}{2}\\sigma^2x_j^2\\frac{V_{j+1}^{i+1}-2V_{j}^{i+1} + V_{j-1}^{i+1}}{\\Delta x^2} + x_j\\left[r - \\frac{B^{i+1} - B^{i}}{\\Delta tB^{i+1}}\\right]\\frac{V_{j+1}^{i+1}-V_{j-1}^{i+1}}{2\\Delta x} - rV_{j}^{i+1} = 0 \\qquad i= N_{t}-1,\\dots, 0,\\quad j = 1,2,\\dots, N_x-1\n",
        "$$\n",
        "$$\n",
        "\\begin{align*}\n",
        "V^{i}_{0} &= K - B^{i}\\\\\n",
        "V^{i}_{N_x} &= 0, \\quad i = N_t,N_t -1,\\dots, 0\\\\\n",
        "\\frac{V^{i}_{1}-V^{i}_{0}}{N_x} & = -B^{i}, \\quad i = N_t, N_t-1,\\dots, 0\n",
        "\\end{align*}\n",
        "$$\n",
        "\n",
        "Note that since the goal is to solve for $V^{i}, B^{i}$ in terms of $V^{i+1}, B^{i+1}$, the equation is linear in the unknowns and therefore there is no need to use any special method for solving it."
      ]
    },
    {
      "cell_type": "markdown",
      "metadata": {
        "id": "aNRChYa0UzUn"
      },
      "source": [
        "Some manipulations give us:\n",
        "\n",
        "$$\n",
        "V_j^{i} = A_j V_{j-1}^{i+1} + B_j V_{j}^{i+1} + C_j V_{j+1}^{i+1} + D_j^{i+1}B^{i}\\qquad \\text{for } j=1,\\dots, N_x-1, \\quad i = N_t-1, \\dots, 0.\n",
        "$$\n",
        "with\n",
        "\n",
        "$$\\begin{align*}\n",
        "A_j = & \\frac{\\Delta t}{2\\Delta x^2}\\sigma^2x_j^2 - \\frac{\\Delta t}{2\\Delta x}x_j\\left(r - \\frac{1}{\\Delta t} \\right)\\\\\n",
        "\\\\\n",
        "B_j = &1 - \\frac{\\Delta t}{\\Delta x^2}\\sigma^2x_j^2 -r\\Delta t\\\\\n",
        "\\\\\n",
        "C_j = & \\frac{\\Delta t}{2\\Delta x^2}\\sigma^2x_j^2 + \\frac{\\Delta t}{2\\Delta x}x_j\\left(r - \\frac{1}{\\Delta t} \\right)\\\\\n",
        "\\\\\n",
        "D_j^{i}= &\\frac{x_j}{2\\Delta x}\\frac{V_j^{i} - V_{j-1}^{i}}{B^{i}}\n",
        "\\end{align*}\n",
        "$$"
      ]
    },
    {
      "cell_type": "markdown",
      "metadata": {
        "id": "qVsR_k6cUzUn"
      },
      "source": [
        "Then,\n",
        "\n",
        "$$\n",
        "V_1^{i} = A_1V_0^{i+1} +B_1V_1^{i+1} +C_1V_2^{i+1} + D_1^{i+1}\n",
        "$$\n",
        "\n",
        "and\n",
        "\n",
        "$$\n",
        "B^{i} = \\frac{K - (A_1V_0^{i+1} +B_1V_1^{i+1} + C_1V_2^{i+1})}{D_1^{i+1} + (1+\\Delta x)}\n",
        "$$"
      ]
    },
    {
      "cell_type": "markdown",
      "metadata": {
        "id": "KFiRgJ89UzUn"
      },
      "source": [
        "Thus, after finding the values of $D, B$ we use them to find the values of $V$.\n",
        "\n",
        "Below we present the python function to compute them."
      ]
    },
    {
      "cell_type": "code",
      "execution_count": null,
      "metadata": {
        "id": "rkKZ92MiUzUn"
      },
      "outputs": [],
      "source": [
        "def explicit_method_for_American_put(params):\n",
        "\n",
        "    r, sigma, K, T, x_0, x_inf, delta_t, delta_x = params\n",
        "\n",
        "    M = int((x_inf -x_0)/delta_x) - 1\n",
        "    N = int(T/delta_t) -1\n",
        "\n",
        "    V = np.zeros((M+2, N + 2))\n",
        "    B = np.zeros(N + 2)\n",
        "    B[N+1] = K\n",
        "    x = np.linspace(1, 2, M+2)\n",
        "    a = 0.5*sigma**2*delta_t/(delta_x**2) * x**2 - (r - 1/delta_t)*delta_t/(2*delta_x)*x\n",
        "    b = 1 - sigma**2*delta_t/(delta_x**2) * x**2 -r*delta_t\n",
        "    c = 0.5*sigma**2*delta_t/(delta_x**2)*x**2 + (r - 1/delta_t)*delta_t/(2*delta_x)*x\n",
        "\n",
        "\n",
        "    A = scipy.sparse.diags([a[2:], b[2:], c[2:]], offsets=[0,1,2], shape=(M-1, M+1)).toarray()\n",
        "\n",
        "    D = np.zeros((M+1, N + 2))\n",
        "    DD = scipy.sparse.diags([-np.ones(M), np.zeros(M), np.ones(M)], offsets=[0, 1, 2], shape=(M,M+2))\n",
        "\n",
        "    for n in range(N, -1,-1):\n",
        "\n",
        "        D[1:, n+1] = 1/(2*delta_x * B[n+1])*(DD @ V[:, n+1])*x[1:-1]\n",
        "        B[n] = (K - (a[1]*V[0, n+1] + b[1]*V[1, n+1] +c[1]*V[2, n+1]))/(D[1, n+1] +(1+delta_x))\n",
        "        V[0, n] = K - B[n]\n",
        "        V[1, n] = K - (1+delta_x)*B[n]\n",
        "        V[2:-1, n] = A @ V[1:,n+1] + D[2:, n+1]*B[n]\n",
        "\n",
        "    return V, B\n"
      ]
    },
    {
      "cell_type": "code",
      "execution_count": null,
      "metadata": {
        "id": "925t0NGBUzUn"
      },
      "outputs": [],
      "source": [
        "sigma = 0.2\n",
        "r = 0.1\n",
        "K = 1\n",
        "x_inf = 2\n",
        "x_0 = 1\n",
        "T = 1\n",
        "\n",
        "delta_x_explicit = 0.001\n",
        "delta_t_explicit = 5*1e-6\n",
        "grid_x = np.arange(x_0, x_inf + delta_x, delta_x)\n",
        "grid_x_explicit = np.arange(x_0, x_inf + delta_x_explicit, delta_x_explicit)\n",
        "\n",
        "params = [r, sigma, K, T, x_0, x_inf, delta_t_explicit, delta_x_explicit]"
      ]
    },
    {
      "cell_type": "code",
      "execution_count": null,
      "metadata": {
        "id": "M-5iJtV5UzUn",
        "outputId": "0485b68b-8442-4f80-e035-eff72003685b"
      },
      "outputs": [
        {
          "data": {
            "text/plain": [
              "0.8623232893236318"
            ]
          },
          "execution_count": 37,
          "metadata": {},
          "output_type": "execute_result"
        }
      ],
      "source": [
        "V_explicit, B_explicit = explicit_method_for_American_put(params)\n",
        "\n",
        "B_explicit[0]"
      ]
    },
    {
      "cell_type": "code",
      "execution_count": null,
      "metadata": {
        "id": "U6B-AlVGUzUn"
      },
      "outputs": [],
      "source": [
        "def time_zero_price_American_put(s_0,K, V, B, grid_x):\n",
        "\n",
        "    x = s_0/B[0]\n",
        "    if x>= 1:\n",
        "        index = np.where(grid_x <= x)[0][-1]\n",
        "        return index, V[index, 0]\n",
        "    else:\n",
        "        return K - s_0"
      ]
    },
    {
      "cell_type": "code",
      "execution_count": null,
      "metadata": {
        "id": "Ix2dFeUkUzUn",
        "outputId": "136de5c9-1d22-4c5d-b85e-8f2d0cfabadb"
      },
      "outputs": [
        {
          "name": "stdout",
          "output_type": "stream",
          "text": [
            "Time zero price of option computed with the implicit scheme is 0.04891502916370722\n",
            "Time zero price of option computed with the explicit scheme is 0.048381260187715436\n"
          ]
        }
      ],
      "source": [
        "index, V0_implicit = time_zero_price_American_put(s_0, K, V_implicit, B_implicit, grid_x)\n",
        "indexx, V0_explicit = time_zero_price_American_put(s_0, K, V_explicit, B_explicit, grid_x_explicit)\n",
        "\n",
        "\n",
        "print(f\"Time zero price of option computed with the implicit scheme is {V0_implicit}\")\n",
        "print(f\"Time zero price of option computed with the explicit scheme is {V0_explicit}\")\n"
      ]
    },
    {
      "cell_type": "code",
      "execution_count": null,
      "metadata": {
        "id": "BpA5QvpkUzUn",
        "outputId": "4c17c4e3-0ae9-4646-c269-40484333f623"
      },
      "outputs": [
        {
          "data": {
            "image/png": "[encoded data removed]",
            "text/plain": [
              "<Figure size 1200x600 with 1 Axes>"
            ]
          },
          "metadata": {},
          "output_type": "display_data"
        }
      ],
      "source": [
        "plt.figure(figsize=(12, 6))\n",
        "plt.plot(grid_x, V_implicit[:, 0], '--', color = \"red\", label = \"Implicit scheme\")\n",
        "plt.plot(grid_x_explicit, V_explicit[:, 0], '--', color = 'black', label = \"Explicit scheme\")\n",
        "plt.vlines(grid_x[index],ymin= 0, ymax=np.max(V_implicit[:, 0]), linestyles='dashed')\n",
        "plt.hlines(V0_implicit,xmin= 1, xmax=2,  linestyles='dashed')\n",
        "plt.yticks(list(plt.yticks()[0]) + [V0_implicit])\n",
        "plt.xticks(list(plt.xticks()[0]) + [grid_x[index]])\n",
        "plt.xlabel(\"x =S/B(0)\")\n",
        "plt.ylabel(\"V(0, x)\")\n",
        "plt.legend()\n",
        "plt.show()\n"
      ]
    },
    {
      "cell_type": "markdown",
      "metadata": {
        "id": "iENaowAyUzUo"
      },
      "source": [
        "Compare the result of the time zero price of the option for an initial value of the stock given by $s_0$ with the values found by Tsitsilkis-Van Roy and Longstaff Schwartz method implemented in the beginning of this notebook. We note in particular that the Tsitsilkis Van Roy method seems to over estimate the value."
      ]
    },
    {
      "cell_type": "markdown",
      "metadata": {
        "id": "b_qrjvnwUzUo"
      },
      "source": [
        "--------------------------------------------\n",
        "-----------------------------------------------"
      ]
    }
  ],
  "metadata": {
    "kernelspec": {
      "display_name": "Gatulin",
      "language": "python",
      "name": "python3"
    },
    "language_info": {
      "codemirror_mode": {
        "name": "ipython",
        "version": 3
      },
      "file_extension": ".py",
      "mimetype": "text/x-python",
      "name": "python",
      "nbconvert_exporter": "python",
      "pygments_lexer": "ipython3",
      "version": "3.10.8"
    },
    "colab": {
      "provenance": [],
      "include_colab_link": true
    }
  },
  "nbformat": 4,
  "nbformat_minor": 0
}